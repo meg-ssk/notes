{
 "cells": [
  {
   "cell_type": "markdown",
   "id": "e0dee673",
   "metadata": {},
   "source": [
    "## 参考文献\n",
    "- https://rightcode.co.jp/blog/information-technology/pytorch-mnist-learning\n",
    "- https://qiita.com/TKC-tkc/items/42ff569be496621fc016"
   ]
  },
  {
   "cell_type": "code",
   "execution_count": 35,
   "id": "0c309687",
   "metadata": {},
   "outputs": [],
   "source": [
    "import torch\n",
    "import torch.nn as nn\n",
    "import torch.nn.functional as f\n",
    "import torchvision\n",
    "import torchvision.transforms as transforms\n",
    "from matplotlib import pyplot as plt\n",
    "from torchvision import datasets, transforms\n",
    "\n",
    "import numpy as np\n",
    "\n",
    "from PIL import Image\n",
    "import random"
   ]
  },
  {
   "cell_type": "code",
   "execution_count": 2,
   "id": "47eb0b54",
   "metadata": {},
   "outputs": [],
   "source": [
    "class Net(nn.Module):\n",
    "    def __init__(self):\n",
    "        super(Net, self).__init__()\n",
    "        self.fc1 = torch.nn.Linear(28*28, 1000) # MNISTは28*28*255 ≒ 20万のパターンがあるデータ。これを１０００次元にまで削減する\n",
    "        self.fc2 = torch.nn.Linear(1000, 10) # 1000成分ベクトルを10成分ベクトルにする、これが0-9の分類に対応。各成分の値は確率。\n",
    "    \n",
    "    \n",
    "    def forward(self,x):\n",
    "        x = self.fc1(x)\n",
    "        x = torch.sigmoid(x) # 活性化関数はシグモイド関数を使う\n",
    "        x = self.fc2(x)\n",
    "\n",
    "        return f.log_softmax(x, dim=1) # 出力層はsoft-max関数を使う\n",
    "\n",
    "# ニューラルネットの定義はこれだけ！\n",
    "model = Net()"
   ]
  },
  {
   "cell_type": "markdown",
   "id": "0bd2d578",
   "metadata": {},
   "source": [
    "参考文献\n",
    "- https://qiita.com/fukuit/items/215ef75113d97560e599"
   ]
  },
  {
   "cell_type": "code",
   "execution_count": 3,
   "id": "d186b36a",
   "metadata": {},
   "outputs": [],
   "source": [
    "# MNISTデータをダウンロードしてトレーニングデータとテストデータに分ける関数です\n",
    "batch_size = 128\n",
    "def load_MNIST(batch=batch_size, intensity=1.0):\n",
    "    train_loader = torch.utils.data.DataLoader(\n",
    "        datasets.MNIST('../data',\n",
    "                       train=True,\n",
    "                       download=True,\n",
    "                       transform=transforms.Compose([\n",
    "                           transforms.ToTensor(),\n",
    "                           transforms.Lambda(lambda x: x * intensity)\n",
    "                       ])),\n",
    "        batch_size=batch,\n",
    "        shuffle=True)\n",
    "\n",
    "    test_loader = torch.utils.data.DataLoader(\n",
    "        datasets.MNIST('../data',\n",
    "                       train=False,\n",
    "                       transform=transforms.Compose([\n",
    "                           transforms.ToTensor(),\n",
    "                           transforms.Lambda(lambda x: x * intensity)\n",
    "                       ])),\n",
    "        batch_size=batch,\n",
    "        shuffle=True)\n",
    "\n",
    "    return {'train': train_loader, 'test': test_loader}\n"
   ]
  },
  {
   "cell_type": "code",
   "execution_count": 4,
   "id": "bd0b6ac7",
   "metadata": {},
   "outputs": [
    {
     "name": "stdout",
     "output_type": "stream",
     "text": [
      "Test loss (avg): 0.26652321329116824, Accuracy: 0.923\n",
      "Test loss (avg): 0.20137797331809998, Accuracy: 0.9413\n",
      "Test loss (avg): 0.1554432737827301, Accuracy: 0.9528\n",
      "Test loss (avg): 0.13059054695367814, Accuracy: 0.9605\n",
      "Test loss (avg): 0.1053754222869873, Accuracy: 0.9685\n",
      "Test loss (avg): 0.09931395485401154, Accuracy: 0.9705\n",
      "Test loss (avg): 0.08811677347421647, Accuracy: 0.9741\n",
      "Test loss (avg): 0.07927880330085754, Accuracy: 0.9764\n",
      "Test loss (avg): 0.07654344631433486, Accuracy: 0.9769\n",
      "Test loss (avg): 0.06913545143045485, Accuracy: 0.98\n",
      "Test loss (avg): 0.06770274290144443, Accuracy: 0.98\n",
      "Test loss (avg): 0.06600883802175522, Accuracy: 0.9797\n",
      "Test loss (avg): 0.0643732629980892, Accuracy: 0.9809\n",
      "Test loss (avg): 0.06710352778687374, Accuracy: 0.98\n",
      "Test loss (avg): 0.06810319705232978, Accuracy: 0.9801\n",
      "Test loss (avg): 0.06275825496017932, Accuracy: 0.9815\n",
      "Test loss (avg): 0.0644100649356842, Accuracy: 0.981\n",
      "Test loss (avg): 0.06685554550886154, Accuracy: 0.9812\n",
      "Test loss (avg): 0.06780989952683449, Accuracy: 0.9814\n",
      "Test loss (avg): 0.0687493716031313, Accuracy: 0.9811\n"
     ]
    }
   ],
   "source": [
    "# このセルで学習をします\n",
    "\n",
    "# 学習回数\n",
    "epoch = 20\n",
    "\n",
    "# 学習結果の保存用\n",
    "history = {\n",
    "    'train_loss': [],\n",
    "    'test_loss': [],\n",
    "    'test_acc': [],\n",
    "}\n",
    "\n",
    "# ネットワークを構築\n",
    "net: torch.nn.Module = Net()\n",
    "\n",
    "# MNISTのデータローダーを取得\n",
    "loaders = load_MNIST()\n",
    "\n",
    "# PyTorchのoptimで最適化します\n",
    "# 最適化の手法はAdam（Adaptive Moment Estimation）を使います \n",
    "# https://rightcode.co.jp/blog/information-technology/torch-optim-optimizer-compare-and-verify-update-process-and-performance-of-optimization-methods\n",
    "optimizer = torch.optim.Adam(params=net.parameters(), lr=0.001)\n",
    "\n",
    "# エポック数の回数、iterationして学習します\n",
    "for e in range(epoch):\n",
    "\n",
    "    \"\"\" Training Part\"\"\"\n",
    "    loss = None\n",
    "\n",
    "    # 学習開始 (再開)\n",
    "    net.train(True)  # 引数は省略可能\n",
    "    \n",
    "    # irainingデータでiterationします\n",
    "    for i, (data, target) in enumerate(loaders['train']):\n",
    "        data = data.view(-1, 28*28)\n",
    "        \n",
    "        # 勾配を0に戻しておきます\n",
    "        optimizer.zero_grad()\n",
    "        \n",
    "        # データを定義したネットワークに入れて出力を得ます\n",
    "        output = net(data)\n",
    "        \n",
    "        # 損失関数はNegative Log Likelihood(NLL)にします\n",
    "        loss = f.nll_loss(output, target)\n",
    "        \n",
    "        # 損失関数の自動微分をします\n",
    "        loss.backward()\n",
    "        \n",
    "        # 勾配を更新します\n",
    "        optimizer.step()\n",
    "\n",
    "    history['train_loss'].append(loss)\n",
    "\n",
    "    \n",
    "    # 学習のストップ\n",
    "    net.train(False) # または net.eval()  でも良い\n",
    "    \n",
    "    # 1回のエポックの学習が終わったとき、テストデータでモデルを評価します\n",
    "    test_loss = 0\n",
    "    correct = 0\n",
    "\n",
    "    with torch.no_grad():\n",
    "        for data, target in loaders['test']:\n",
    "            data = data.view(-1, 28 * 28)\n",
    "            \n",
    "            # テストデータをネットワークに入れて推論させます\n",
    "            output = net(data)\n",
    "            \n",
    "            test_loss += f.nll_loss(output, target, reduction='sum').item()\n",
    "            \n",
    "            # 推論結果で確率が一番高いラベル(0-9のどの数字か)を答えます\n",
    "            pred = output.argmax(dim=1, keepdim=True)\n",
    "            \n",
    "            # 推論結果と実際のラベルが一致していたら正解数を増やしていきます\n",
    "            # 最終的に全テストデータに対して正解数をカウントします\n",
    "            correct += pred.eq(target.view_as(pred)).sum().item()\n",
    "\n",
    "    test_loss /= 10000\n",
    "\n",
    "    print('Test loss (avg): {}, Accuracy: {}'.format(test_loss,\n",
    "                                                     correct / 10000))\n",
    "\n",
    "    history['test_loss'].append(test_loss)\n",
    "    history['test_acc'].append(correct / 10000)\n",
    "    \n"
   ]
  },
  {
   "cell_type": "code",
   "execution_count": 5,
   "id": "82d4ac56",
   "metadata": {},
   "outputs": [
    {
     "data": {
      "image/png": "[encoded data removed]",
      "text/plain": [
       "<Figure size 432x288 with 1 Axes>"
      ]
     },
     "metadata": {
      "needs_background": "light"
     },
     "output_type": "display_data"
    },
    {
     "data": {
      "image/png": "[encoded data removed]",
      "text/plain": [
       "<Figure size 432x288 with 1 Axes>"
      ]
     },
     "metadata": {
      "needs_background": "light"
     },
     "output_type": "display_data"
    }
   ],
   "source": [
    "# 結果の出力と描画\n",
    "plt.figure()\n",
    "#plt.plot(range(1, epoch+1), history['train_loss'], label='train_loss')\n",
    "plt.plot(range(1, epoch+1), history['test_loss'], label='test_loss')\n",
    "plt.xlabel('epoch')\n",
    "plt.legend()\n",
    "plt.savefig('loss.png')\n",
    "\n",
    "plt.figure()\n",
    "plt.plot(range(1, epoch+1), history['test_acc'])\n",
    "plt.title('test accuracy')\n",
    "plt.xlabel('epoch')\n",
    "plt.savefig('test_acc.png')"
   ]
  },
  {
   "cell_type": "code",
   "execution_count": 75,
   "id": "4923943f",
   "metadata": {},
   "outputs": [],
   "source": [
    "def compare_test_data_image_with_label(loaders):\n",
    "    # テストデータをランダムに抽出\n",
    "    test_data_length = len(loaders[\"test\"])\n",
    "    test_data_list = list(loaders['test'])[random.randint(0, test_data_length - 1)]\n",
    "\n",
    "    # こいつがバッチサイズの長さを持っているのでさらにバッチサイズの範囲の乱数で抽選してnumpy arrayにする\n",
    "    random_index = random.randint(0, batch_size - 1)\n",
    "    sample_test_data_image = test_data_list[0][random_index].detach().numpy().copy()\n",
    "\n",
    "    # MNISTの大きさの28*28にreshapeして0-255の整数にする\n",
    "    sample_test_data_image = (sample_test_data_image.reshape(28,28)*255).astype(int)\n",
    "\n",
    "    # ラベルを表示\n",
    "    sample_test_data_label = test_data_list[1][random_index].item()\n",
    "    print(\"Correct number is {}\".format(sample_test_data_label))\n",
    "    \n",
    "    # 画像を表示\n",
    "    plt.imshow(sample_test_data_image, cmap='gray')\n",
    "    plt.show()\n",
    "    "
   ]
  },
  {
   "cell_type": "code",
   "execution_count": 76,
   "id": "3da32fe5",
   "metadata": {},
   "outputs": [
    {
     "name": "stdout",
     "output_type": "stream",
     "text": [
      "Correct number is 2\n"
     ]
    },
    {
     "data": {
      "image/png": "[encoded data removed]",
      "text/plain": [
       "<Figure size 432x288 with 1 Axes>"
      ]
     },
     "metadata": {
      "needs_background": "light"
     },
     "output_type": "display_data"
    },
    {
     "name": "stdout",
     "output_type": "stream",
     "text": [
      "Correct number is 5\n"
     ]
    },
    {
     "data": {
      "image/png": "[encoded data removed]",
      "text/plain": [
       "<Figure size 432x288 with 1 Axes>"
      ]
     },
     "metadata": {
      "needs_background": "light"
     },
     "output_type": "display_data"
    },
    {
     "name": "stdout",
     "output_type": "stream",
     "text": [
      "Correct number is 5\n"
     ]
    },
    {
     "data": {
      "image/png": "[encoded data removed]",
      "text/plain": [
       "<Figure size 432x288 with 1 Axes>"
      ]
     },
     "metadata": {
      "needs_background": "light"
     },
     "output_type": "display_data"
    },
    {
     "name": "stdout",
     "output_type": "stream",
     "text": [
      "Correct number is 6\n"
     ]
    },
    {
     "data": {
      "image/png": "[encoded data removed]",
      "text/plain": [
       "<Figure size 432x288 with 1 Axes>"
      ]
     },
     "metadata": {
      "needs_background": "light"
     },
     "output_type": "display_data"
    },
    {
     "name": "stdout",
     "output_type": "stream",
     "text": [
      "Correct number is 9\n"
     ]
    },
    {
     "data": {
      "image/png": "[encoded data removed]",
      "text/plain": [
       "<Figure size 432x288 with 1 Axes>"
      ]
     },
     "metadata": {
      "needs_background": "light"
     },
     "output_type": "display_data"
    },
    {
     "name": "stdout",
     "output_type": "stream",
     "text": [
      "Correct number is 7\n"
     ]
    },
    {
     "data": {
      "image/png": "[encoded data removed]",
      "text/plain": [
       "<Figure size 432x288 with 1 Axes>"
      ]
     },
     "metadata": {
      "needs_background": "light"
     },
     "output_type": "display_data"
    },
    {
     "name": "stdout",
     "output_type": "stream",
     "text": [
      "Correct number is 8\n"
     ]
    },
    {
     "data": {
      "image/png": "[encoded data removed]",
      "text/plain": [
       "<Figure size 432x288 with 1 Axes>"
      ]
     },
     "metadata": {
      "needs_background": "light"
     },
     "output_type": "display_data"
    },
    {
     "name": "stdout",
     "output_type": "stream",
     "text": [
      "Correct number is 3\n"
     ]
    },
    {
     "data": {
      "image/png": "[encoded data removed]",
      "text/plain": [
       "<Figure size 432x288 with 1 Axes>"
      ]
     },
     "metadata": {
      "needs_background": "light"
     },
     "output_type": "display_data"
    },
    {
     "name": "stdout",
     "output_type": "stream",
     "text": [
      "Correct number is 1\n"
     ]
    },
    {
     "data": {
      "image/png": "[encoded data removed]",
      "text/plain": [
       "<Figure size 432x288 with 1 Axes>"
      ]
     },
     "metadata": {
      "needs_background": "light"
     },
     "output_type": "display_data"
    },
    {
     "name": "stdout",
     "output_type": "stream",
     "text": [
      "Correct number is 5\n"
     ]
    },
    {
     "data": {
      "image/png": "[encoded data removed]",
      "text/plain": [
       "<Figure size 432x288 with 1 Axes>"
      ]
     },
     "metadata": {
      "needs_background": "light"
     },
     "output_type": "display_data"
    }
   ],
   "source": [
    "for i in range(10):\n",
    "    compare_test_data_image_with_label(loaders)\n"
   ]
  },
  {
   "cell_type": "code",
   "execution_count": 29,
   "id": "5f430700",
   "metadata": {},
   "outputs": [],
   "source": []
  },
  {
   "cell_type": "code",
   "execution_count": null,
   "id": "3c81fc93",
   "metadata": {},
   "outputs": [],
   "source": []
  }
 ],
 "metadata": {
  "kernelspec": {
   "display_name": "Python 3 (ipykernel)",
   "language": "python",
   "name": "python3"
  },
  "language_info": {
   "codemirror_mode": {
    "name": "ipython",
    "version": 3
   },
   "file_extension": ".py",
   "mimetype": "text/x-python",
   "name": "python",
   "nbconvert_exporter": "python",
   "pygments_lexer": "ipython3",
   "version": "3.9.10"
  }
 },
 "nbformat": 4,
 "nbformat_minor": 5
}
