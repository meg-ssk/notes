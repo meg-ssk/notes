{
 "cells": [
  {
   "cell_type": "code",
   "execution_count": 1,
   "id": "eb68d4e5",
   "metadata": {},
   "outputs": [],
   "source": [
    "import torch\n",
    "from torch import Tensor as tt\n",
    "\n",
    "from matplotlib import pyplot as plt"
   ]
  },
  {
   "cell_type": "code",
   "execution_count": 2,
   "id": "605bc9b6",
   "metadata": {},
   "outputs": [],
   "source": [
    "weights_true = tt([1,2,3]) # 真値は y = 1 +2*x_1 + 3*x_2\n",
    "\n",
    "sample_number =100 # 標本数\n",
    "learning_rate = 0.1 # 学習率\n",
    "epoch_number = 100 # エポック数\n",
    "\n",
    "matrix = torch.randn([sample_number, 2]) # x1, x2 の値をランダムに生成\n",
    "vector = torch.ones([sample_number, 1]) # 切片のための1だけの列の項\n",
    "\n",
    "X = torch.cat([vector, matrix], 1) # 2つを結合\n",
    "\n",
    "# weights の予測値。初期値は乱数で与えておく。自動微分出来るように\"requires_grad=True\"\n",
    "weights_estimated = torch.randn(3, requires_grad=True)"
   ]
  },
  {
   "cell_type": "code",
   "execution_count": 3,
   "id": "89c4fec5",
   "metadata": {},
   "outputs": [],
   "source": [
    "noise = torch.randn(sample_number)*0.5 # 3列のN(0,1)に従う乱数\n",
    "\n",
    "observed_value = torch.mv(X, weights_true) + noise # 標本数の観測値を生成"
   ]
  },
  {
   "cell_type": "code",
   "execution_count": null,
   "id": "d19e107d",
   "metadata": {},
   "outputs": [],
   "source": [
    "losses = [] # 損失関数のログ\n",
    "\n",
    "for i in range(epoch_number):\n",
    "    # 勾配を初期化しておく(iterationで残ってほしくない)\n",
    "    weights_estimated.grad = None\n",
    "     \n",
    "    # 予測値を計算\n",
    "    predicted_value = torch.mv(X, weights_estimated)\n",
    "    \n",
    "    # ロスを計算、ログに加える\n",
    "    loss = torch.mean((observed_value - predicted_value)**2)\n",
    "    loss.backward() # 微分を実行\n",
    "    losses.append(loss.item())\n",
    "    \n",
    "    # 係数の推定値を更新\n",
    "    weights_estimated.data = weights_estimated.data - learning_rate * weights_estimated.grad.data\n",
    "    "
   ]
  },
  {
   "cell_type": "code",
   "execution_count": null,
   "id": "a877b46d",
   "metadata": {},
   "outputs": [],
   "source": [
    "# lossをプロット\n",
    "plt.plot(losses)"
   ]
  },
  {
   "cell_type": "code",
   "execution_count": null,
   "id": "5bde2e3a",
   "metadata": {},
   "outputs": [],
   "source": [
    "weights_estimated.data"
   ]
  },
  {
   "cell_type": "markdown",
   "id": "5f5e318c",
   "metadata": {},
   "source": [
    "真値[1,2,3]と比べていい感じに推定できてるよね"
   ]
  },
  {
   "cell_type": "markdown",
   "id": "3693adda",
   "metadata": {},
   "source": [
    "## nn, optimでもっと簡単にする"
   ]
  },
  {
   "cell_type": "code",
   "execution_count": 4,
   "id": "51d6c37f",
   "metadata": {},
   "outputs": [],
   "source": [
    "from torch import nn, optim"
   ]
  },
  {
   "cell_type": "code",
   "execution_count": 5,
   "id": "aa999b95",
   "metadata": {},
   "outputs": [],
   "source": [
    "# linear層を宣言(biasがFalseなのは切片が回帰係数に含まれているから)\n",
    "net = nn.Linear(in_features=3, out_features=1, bias=False)\n",
    "\n",
    "# ネットワークのパラメータをoptimizerに渡す\n",
    "optimizer = optim.SGD(net.parameters(), lr=0.1)\n",
    "\n",
    "# 損失関数をnnのクラスを使って宣言\n",
    "loss_function = nn.MSELoss()"
   ]
  },
  {
   "cell_type": "code",
   "execution_count": 6,
   "id": "4c6f83a8",
   "metadata": {},
   "outputs": [],
   "source": [
    "losses = []\n",
    "\n",
    "for epoch in range(epoch_number):\n",
    "    # 勾配の計算を初期化\n",
    "    optimizer.zero_grad()\n",
    "    \n",
    "    # 予測値を計算\n",
    "    predicted_value = net(X)\n",
    "    \n",
    "    # MSE lossを計算\n",
    "    loss = loss_function(predicted_value.view_as(observed_value), observed_value)\n",
    "    \n",
    "    # lossのw(回帰係数の推定値)による微分を計算\n",
    "    loss.backward()\n",
    "    \n",
    "    # 勾配を更新\n",
    "    optimizer.step()\n",
    "    \n",
    "    # lossの値をリストに追加\n",
    "    losses.append(loss.item())\n",
    "    "
   ]
  },
  {
   "cell_type": "code",
   "execution_count": 7,
   "id": "e8e1252a",
   "metadata": {},
   "outputs": [
    {
     "data": {
      "text/plain": [
       "[<matplotlib.lines.Line2D at 0x122399850>]"
      ]
     },
     "execution_count": 7,
     "metadata": {},
     "output_type": "execute_result"
    },
    {
     "data": {
      "image/png": "[encoded data removed]",
      "text/plain": [
       "<Figure size 432x288 with 1 Axes>"
      ]
     },
     "metadata": {
      "needs_background": "light"
     },
     "output_type": "display_data"
    }
   ],
   "source": [
    "# lossをプロット\n",
    "plt.plot(losses)"
   ]
  },
  {
   "cell_type": "markdown",
   "id": "dc9e44ee",
   "metadata": {},
   "source": [
    "推定されたパラメータを確認"
   ]
  },
  {
   "cell_type": "code",
   "execution_count": 13,
   "id": "8708ebbe",
   "metadata": {},
   "outputs": [
    {
     "data": {
      "text/plain": [
       "[Parameter containing:\n",
       " tensor([[1.0394, 2.0019, 2.9804]], requires_grad=True)]"
      ]
     },
     "execution_count": 13,
     "metadata": {},
     "output_type": "execute_result"
    }
   ],
   "source": [
    "list(net.parameters())"
   ]
  },
  {
   "cell_type": "code",
   "execution_count": 18,
   "id": "3f0efe52",
   "metadata": {},
   "outputs": [
    {
     "data": {
      "text/plain": [
       "{'weight': Parameter containing:\n",
       " tensor([[1.0394, 2.0019, 2.9804]], requires_grad=True)}"
      ]
     },
     "execution_count": 18,
     "metadata": {},
     "output_type": "execute_result"
    }
   ],
   "source": [
    "dict(net.named_parameters())"
   ]
  },
  {
   "cell_type": "code",
   "execution_count": 26,
   "id": "d1913ef0",
   "metadata": {},
   "outputs": [
    {
     "data": {
      "text/plain": [
       "array([[1.0394436, 2.001924 , 2.9803553]], dtype=float32)"
      ]
     },
     "execution_count": 26,
     "metadata": {},
     "output_type": "execute_result"
    }
   ],
   "source": [
    "# numpy arrayにする方法の一例\n",
    "import numpy as np\n",
    "dict(net.named_parameters())[\"weight\"].detach().numpy()"
   ]
  },
  {
   "cell_type": "code",
   "execution_count": null,
   "id": "ffc8ee05",
   "metadata": {},
   "outputs": [],
   "source": []
  }
 ],
 "metadata": {
  "kernelspec": {
   "display_name": "Python 3 (ipykernel)",
   "language": "python",
   "name": "python3"
  },
  "language_info": {
   "codemirror_mode": {
    "name": "ipython",
    "version": 3
   },
   "file_extension": ".py",
   "mimetype": "text/x-python",
   "name": "python",
   "nbconvert_exporter": "python",
   "pygments_lexer": "ipython3",
   "version": "3.9.10"
  }
 },
 "nbformat": 4,
 "nbformat_minor": 5
}
