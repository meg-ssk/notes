{
 "cells": [
  {
   "cell_type": "code",
   "execution_count": 1,
   "id": "3841c8a6",
   "metadata": {},
   "outputs": [],
   "source": [
    "import torch\n",
    "from torch import Tensor as tt\n",
    "\n",
    "from matplotlib import pyplot as plt"
   ]
  },
  {
   "cell_type": "code",
   "execution_count": 2,
   "id": "26953fd1",
   "metadata": {},
   "outputs": [],
   "source": [
    "weights_true = tt([1,2,3]) # 真値は y = 1 +2*x_1 + 3*x_2\n",
    "\n",
    "sample_number =100 # 標本数\n",
    "learning_rate = 0.1 # 学習率\n",
    "epoch_number = 100 # エポック数\n",
    "\n",
    "matrix = torch.randn([sample_number, 2]) # x1, x2 の値をランダムに生成\n",
    "vector = torch.ones([sample_number, 1]) # 切片のための1だけの列の項\n",
    "\n",
    "X = torch.cat([vector, matrix], 1) # 2つを結合\n",
    "\n",
    "# weights の予測値。初期値は乱数で与えておく。自動微分出来るように\"requires_grad=True\"\n",
    "weights_estimated = torch.randn(3, requires_grad=True)"
   ]
  },
  {
   "cell_type": "code",
   "execution_count": 3,
   "id": "f18cce10",
   "metadata": {},
   "outputs": [],
   "source": [
    "noise = torch.randn(sample_number)*0.5 # 3列のN(0,1)に従う乱数\n",
    "\n",
    "observed_value = torch.mv(X, weights_true) + noise # 標本数の観測値を生成"
   ]
  },
  {
   "cell_type": "code",
   "execution_count": 5,
   "id": "ff491a2f",
   "metadata": {},
   "outputs": [],
   "source": [
    "losses = [] # 損失関数のログ\n",
    "\n",
    "for i in range(epoch_number):\n",
    "    # 勾配を初期化しておく(iterationで残ってほしくない)\n",
    "    weights_estimated.grad = None\n",
    "     \n",
    "    # 予測値を計算\n",
    "    predicted_value = torch.mv(X, weights_estimated)\n",
    "    \n",
    "    # ロスを計算、ログに加える\n",
    "    loss = torch.mean((observed_value - predicted_value)**2)\n",
    "    loss.backward()\n",
    "    losses.append(loss.item())\n",
    "    \n",
    "    # 係数の推定値を更新\n",
    "    weights_estimated.data = weights_estimated.data - learning_rate * weights_estimated.grad.data\n",
    "    "
   ]
  },
  {
   "cell_type": "code",
   "execution_count": 6,
   "id": "e9b004b2",
   "metadata": {},
   "outputs": [
    {
     "data": {
      "text/plain": [
       "[<matplotlib.lines.Line2D at 0x11fa2ba00>]"
      ]
     },
     "execution_count": 6,
     "metadata": {},
     "output_type": "execute_result"
    },
    {
     "data": {
      "image/png": "[encoded data removed]",
      "text/plain": [
       "<Figure size 432x288 with 1 Axes>"
      ]
     },
     "metadata": {
      "needs_background": "light"
     },
     "output_type": "display_data"
    }
   ],
   "source": [
    "# lossをプロット\n",
    "plt.plot(losses)"
   ]
  },
  {
   "cell_type": "code",
   "execution_count": 8,
   "id": "e6b606d5",
   "metadata": {},
   "outputs": [
    {
     "data": {
      "text/plain": [
       "tensor([0.9840, 2.0180, 2.9922])"
      ]
     },
     "execution_count": 8,
     "metadata": {},
     "output_type": "execute_result"
    }
   ],
   "source": [
    "weights_estimated.data"
   ]
  },
  {
   "cell_type": "markdown",
   "id": "2baba290",
   "metadata": {},
   "source": [
    "真値[1,2,3]と比べていい感じに推定できてるよね"
   ]
  },
  {
   "cell_type": "code",
   "execution_count": null,
   "id": "e8a525b0",
   "metadata": {},
   "outputs": [],
   "source": []
  }
 ],
 "metadata": {
  "kernelspec": {
   "display_name": "Python 3 (ipykernel)",
   "language": "python",
   "name": "python3"
  },
  "language_info": {
   "codemirror_mode": {
    "name": "ipython",
    "version": 3
   },
   "file_extension": ".py",
   "mimetype": "text/x-python",
   "name": "python",
   "nbconvert_exporter": "python",
   "pygments_lexer": "ipython3",
   "version": "3.9.10"
  }
 },
 "nbformat": 4,
 "nbformat_minor": 5
}
